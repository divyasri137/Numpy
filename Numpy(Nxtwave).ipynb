{
 "cells": [
  {
   "cell_type": "code",
   "execution_count": 1,
   "id": "94ab91b1",
   "metadata": {},
   "outputs": [],
   "source": [
    "import numpy as np"
   ]
  },
  {
   "cell_type": "code",
   "execution_count": 2,
   "id": "147b73ff",
   "metadata": {},
   "outputs": [
    {
     "name": "stdout",
     "output_type": "stream",
     "text": [
      "Array of numbers: [0 1 2 3 4 5 6 7 8 9]\n"
     ]
    }
   ],
   "source": [
    "#Arange\n",
    "numbers_array=np.arange(10)\n",
    "print(\"Array of numbers:\",numbers_array)"
   ]
  },
  {
   "cell_type": "code",
   "execution_count": 3,
   "id": "017c032e",
   "metadata": {},
   "outputs": [
    {
     "name": "stdout",
     "output_type": "stream",
     "text": [
      "[3 4 5 6 7 8 9]\n"
     ]
    }
   ],
   "source": [
    "numbers_array_start_stop=np.arange(start=3,stop=10)\n",
    "print(numbers_array_start_stop)"
   ]
  },
  {
   "cell_type": "code",
   "execution_count": 4,
   "id": "9f4da984",
   "metadata": {},
   "outputs": [
    {
     "name": "stdout",
     "output_type": "stream",
     "text": [
      "[ 2  4  6  8 10]\n"
     ]
    }
   ],
   "source": [
    "numbers_array_with_step=np.arange(start=2,stop=12,step=2)\n",
    "print(numbers_array_with_step)"
   ]
  },
  {
   "cell_type": "code",
   "execution_count": 5,
   "id": "b5312f32",
   "metadata": {},
   "outputs": [
    {
     "name": "stdout",
     "output_type": "stream",
     "text": [
      "[4.         4.22222222 4.44444444 4.66666667 4.88888889 5.11111111\n",
      " 5.33333333 5.55555556 5.77777778 6.        ]\n"
     ]
    }
   ],
   "source": [
    "#np.linspace\n",
    "#Contineous\n",
    "seq_array=np.linspace(start=4,stop=6,num=10)\n",
    "print(seq_array)"
   ]
  },
  {
   "cell_type": "code",
   "execution_count": 6,
   "id": "98caeb09",
   "metadata": {},
   "outputs": [
    {
     "name": "stdout",
     "output_type": "stream",
     "text": [
      "[4.  4.2 4.4 4.6 4.8 5.  5.2 5.4 5.6 5.8]\n"
     ]
    }
   ],
   "source": [
    "seq_array_exc_end=np.linspace(start=4,stop=6,num=10,endpoint=False)\n",
    "print(seq_array_exc_end)"
   ]
  },
  {
   "cell_type": "code",
   "execution_count": 7,
   "id": "7ec37fa6",
   "metadata": {},
   "outputs": [
    {
     "name": "stdout",
     "output_type": "stream",
     "text": [
      "(array([4. , 4.2, 4.4, 4.6, 4.8, 5. , 5.2, 5.4, 5.6, 5.8]), 0.2)\n"
     ]
    },
    {
     "data": {
      "text/plain": [
       "0.2"
      ]
     },
     "execution_count": 7,
     "metadata": {},
     "output_type": "execute_result"
    }
   ],
   "source": [
    "seq_array_exc_end_ret=np.linspace(start=4,stop=6,num=10,endpoint=False,retstep=True)\n",
    "print(seq_array_exc_end_ret)\n",
    "seq_array_exc_end_ret[0]\n",
    "seq_array_exc_end_ret[1]"
   ]
  },
  {
   "cell_type": "code",
   "execution_count": 8,
   "id": "4ecf48ad",
   "metadata": {},
   "outputs": [
    {
     "name": "stdout",
     "output_type": "stream",
     "text": [
      "[[2.   3.   5.  ]\n",
      " [2.5  3.75 5.5 ]\n",
      " [3.   4.5  6.  ]\n",
      " [3.5  5.25 6.5 ]\n",
      " [4.   6.   7.  ]]\n"
     ]
    }
   ],
   "source": [
    "seq_2d_array=np.linspace(start=[2,3,5],stop=[4,6,7],num=5)\n",
    "print(seq_2d_array)"
   ]
  },
  {
   "cell_type": "code",
   "execution_count": 9,
   "id": "7718b4ea",
   "metadata": {},
   "outputs": [
    {
     "name": "stdout",
     "output_type": "stream",
     "text": [
      "[[2.   2.5  3.   3.5  4.  ]\n",
      " [3.   3.75 4.5  5.25 6.  ]\n",
      " [5.   5.5  6.   6.5  7.  ]]\n"
     ]
    }
   ],
   "source": [
    "seq_2d_array_axis1=np.linspace(start=[2,3,5],stop=[4,6,7],num=5,axis=1)\n",
    "print(seq_2d_array_axis1)\n"
   ]
  },
  {
   "cell_type": "code",
   "execution_count": 10,
   "id": "4dac45cc",
   "metadata": {},
   "outputs": [
    {
     "name": "stdout",
     "output_type": "stream",
     "text": [
      "[  1.   2.   4.   8.  16.  32.  64. 128.]\n"
     ]
    }
   ],
   "source": [
    "#Geospace\n",
    "geo_space=np.geomspace(start=1,stop=128,num=8)\n",
    "print(geo_space)"
   ]
  },
  {
   "cell_type": "code",
   "execution_count": 11,
   "id": "9b2dff42",
   "metadata": {},
   "outputs": [
    {
     "name": "stdout",
     "output_type": "stream",
     "text": [
      "[   4.   16.   64.  256. 1024.]\n"
     ]
    }
   ],
   "source": [
    "log_space=np.logspace(start=2,stop=10,num=5,base=2)\n",
    "print(log_space)"
   ]
  },
  {
   "cell_type": "code",
   "execution_count": 12,
   "id": "2f56f5b4",
   "metadata": {},
   "outputs": [
    {
     "data": {
      "text/plain": [
       "array(['A', 'B', 'C'], dtype='<U1')"
      ]
     },
     "execution_count": 12,
     "metadata": {},
     "output_type": "execute_result"
    }
   ],
   "source": [
    "#Arrays\n",
    "array_1d=np.array(['A','B','C'])\n",
    "array_1d\n",
    "                "
   ]
  },
  {
   "cell_type": "code",
   "execution_count": 13,
   "id": "8845a3d9",
   "metadata": {},
   "outputs": [
    {
     "data": {
      "text/plain": [
       "array([['A', 'B', 'C'],\n",
       "       ['D', 'E', 'F']], dtype='<U1')"
      ]
     },
     "execution_count": 13,
     "metadata": {},
     "output_type": "execute_result"
    }
   ],
   "source": [
    "array_2d=np.array([['A','B','C'],['D','E','F']])\n",
    "array_2d"
   ]
  },
  {
   "cell_type": "code",
   "execution_count": 17,
   "id": "b86cd277",
   "metadata": {},
   "outputs": [
    {
     "data": {
      "text/plain": [
       "array([[['A', 'B', 'C'],\n",
       "        ['D', 'E', 'F'],\n",
       "        ['G', 'H', 'I']],\n",
       "\n",
       "       [['A', 'B', 'C'],\n",
       "        ['D', 'E', 'F'],\n",
       "        ['G', 'H', 'I']],\n",
       "\n",
       "       [['A', 'B', 'C'],\n",
       "        ['D', 'E', 'F'],\n",
       "        ['G', 'H', 'I']]], dtype='<U1')"
      ]
     },
     "execution_count": 17,
     "metadata": {},
     "output_type": "execute_result"
    }
   ],
   "source": [
    "array_3d=np.array([[['A','B','C'],['D','E','F'],['G','H','I']],[['A','B','C'],['D','E','F'],['G','H','I']],\n",
    "                   [['A','B','C'],['D','E','F'],['G','H','I']]])\n",
    "array_3d\n"
   ]
  },
  {
   "cell_type": "code",
   "execution_count": 18,
   "id": "db0e494d",
   "metadata": {},
   "outputs": [
    {
     "data": {
      "text/plain": [
       "(3, 3, 3)"
      ]
     },
     "execution_count": 18,
     "metadata": {},
     "output_type": "execute_result"
    }
   ],
   "source": [
    "array_3d.ndim\n",
    "array_3d.shape"
   ]
  },
  {
   "cell_type": "code",
   "execution_count": 19,
   "id": "ee68f418",
   "metadata": {},
   "outputs": [
    {
     "data": {
      "text/plain": [
       "(36, 12, 4)"
      ]
     },
     "execution_count": 19,
     "metadata": {},
     "output_type": "execute_result"
    }
   ],
   "source": [
    "array_3d.strides"
   ]
  },
  {
   "cell_type": "code",
   "execution_count": 21,
   "id": "5a29562a",
   "metadata": {},
   "outputs": [
    {
     "data": {
      "text/plain": [
       "array([[[1, 1, 1, 1],\n",
       "        [1, 1, 1, 1],\n",
       "        [1, 1, 1, 1]],\n",
       "\n",
       "       [[1, 1, 1, 1],\n",
       "        [1, 1, 1, 1],\n",
       "        [1, 1, 1, 1]]])"
      ]
     },
     "execution_count": 21,
     "metadata": {},
     "output_type": "execute_result"
    }
   ],
   "source": [
    "ones_3d=np.ones([2,3,4],dtype=np.int32)\n",
    "ones_3d"
   ]
  },
  {
   "cell_type": "code",
   "execution_count": 22,
   "id": "64bc7e67",
   "metadata": {},
   "outputs": [
    {
     "data": {
      "text/plain": [
       "array([[[[0, 0],\n",
       "         [0, 0],\n",
       "         [0, 0]],\n",
       "\n",
       "        [[0, 0],\n",
       "         [0, 0],\n",
       "         [0, 0]],\n",
       "\n",
       "        [[0, 0],\n",
       "         [0, 0],\n",
       "         [0, 0]]],\n",
       "\n",
       "\n",
       "       [[[0, 0],\n",
       "         [0, 0],\n",
       "         [0, 0]],\n",
       "\n",
       "        [[0, 0],\n",
       "         [0, 0],\n",
       "         [0, 0]],\n",
       "\n",
       "        [[0, 0],\n",
       "         [0, 0],\n",
       "         [0, 0]]]])"
      ]
     },
     "execution_count": 22,
     "metadata": {},
     "output_type": "execute_result"
    }
   ],
   "source": [
    "zeros_3d=np.zeros([2,3,3,2],dtype=np.int32)\n",
    "zeros_3d"
   ]
  },
  {
   "cell_type": "code",
   "execution_count": null,
   "id": "55a8dbb6",
   "metadata": {},
   "outputs": [],
   "source": []
  }
 ],
 "metadata": {
  "kernelspec": {
   "display_name": "Python 3 (ipykernel)",
   "language": "python",
   "name": "python3"
  },
  "language_info": {
   "codemirror_mode": {
    "name": "ipython",
    "version": 3
   },
   "file_extension": ".py",
   "mimetype": "text/x-python",
   "name": "python",
   "nbconvert_exporter": "python",
   "pygments_lexer": "ipython3",
   "version": "3.9.7"
  }
 },
 "nbformat": 4,
 "nbformat_minor": 5
}
